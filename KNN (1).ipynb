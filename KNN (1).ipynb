{
 "cells": [
  {
   "cell_type": "code",
   "execution_count": 50,
   "id": "2d93951c-0c01-4644-a51c-271d66739f1a",
   "metadata": {},
   "outputs": [
    {
     "name": "stdin",
     "output_type": "stream",
     "text": [
      "Enter value of K:  7\n"
     ]
    },
    {
     "name": "stdout",
     "output_type": "stream",
     "text": [
      "Nearest Neighbours\n",
      "[7.0 3.2 4.7 1.4 'versicolor']\n",
      "[6.9 3.1 4.9 1.5 'versicolor']\n",
      "[6.5 2.8 4.6 1.5 'versicolor']\n",
      "[6.4 3.2 4.5 1.5 'versicolor']\n",
      "[5.5 2.3 4.0 1.3 'versicolor']\n",
      "[5.1 3.5 1.4 0.2 'setosa']\n",
      "[4.9 3.0 1.4 0.2 'setosa']\n",
      "Predicted label versicolor.\n"
     ]
    }
   ],
   "source": [
    "import pandas as pd\n",
    "from math import sqrt\n",
    "import numpy as np\n",
    "\n",
    "\n",
    "\n",
    "\n",
    "\n",
    "def euclidean_distance(row1, row2):\n",
    "    distance = 0.0\n",
    "    for i in range(len(row1) - 1):\n",
    "        distance += (row1[i] - row2[i]) ** 2\n",
    "    return sqrt(distance)\n",
    "\n",
    "\n",
    "def get_neighbors(train, test_row, num_neighbors):\n",
    "    distances = []\n",
    "    for train_row in train:\n",
    "        dist = euclidean_distance(test_row, train_row)\n",
    "        distances.append((train_row, dist))\n",
    "    distances.sort(key=lambda tup: tup[1])\n",
    "    #print(distances)\n",
    "    neighbors = []\n",
    "    for i in range(num_neighbors):\n",
    "        neighbors.append(distances[i][0])\n",
    "    return neighbors\n",
    "\n",
    "def predict_classification(train, test_row, num_neighbors):\n",
    "    neighbors = get_neighbors(train, test_row, num_neighbors)\n",
    "    output_values = [row[-1] for row in neighbors]\n",
    "    prediction = max(set(output_values), key=output_values.count)\n",
    "    return prediction\n",
    "\n",
    "\n",
    "\n",
    "\n",
    "data = pd.read_excel('assignment6.xlsx')\n",
    "datacopy = data.to_csv(\"assignment6.csv\", index=None, header=True)\n",
    "\n",
    "datanew = pd.read_csv('assignment6.csv')\n",
    "df = datanew.copy()\n",
    "#datanew.iloc[:, [0,1,2,3]]\n",
    "#df.reset_index(drop = True, inplace= True)\n",
    "\n",
    "df.columns = [\"sepal_length\", \"sepal_width\", \"petal_length\", \"petal_width\", \"Species\"]\n",
    "\n",
    "df.drop(\"Species\", axis=1)\n",
    "\n",
    "dataset = np.array(df)\n",
    "\n",
    "\n",
    "\n",
    "testrow = np.array([8.2, 2.6, 3.2, 1.8])\n",
    "\n",
    "\n",
    "\n",
    "\n",
    "\n",
    "\n",
    "#print(distances)\n",
    "\n",
    "k = input(\"Enter value of K: \")\n",
    "\n",
    "neighbours = get_neighbors(dataset, testrow, int(k))\n",
    "\n",
    "print('Nearest Neighbours')\n",
    "for neighbor in neighbours:\n",
    "    print(neighbor)\n",
    "    \n",
    "\n",
    "prediction = predict_classification(dataset, testrow, int(k))\n",
    "print('Predicted label %s.' % (prediction))\n",
    "\n",
    "\n"
   ]
  },
  {
   "cell_type": "code",
   "execution_count": null,
   "id": "320166a8-cf6b-43c5-9dac-96f7469b3db9",
   "metadata": {},
   "outputs": [],
   "source": []
  },
  {
   "cell_type": "code",
   "execution_count": null,
   "id": "61b9847b-c242-4e61-86cb-84cda8f8dada",
   "metadata": {},
   "outputs": [],
   "source": []
  }
 ],
 "metadata": {
  "kernelspec": {
   "display_name": "Python 3 (ipykernel)",
   "language": "python",
   "name": "python3"
  },
  "language_info": {
   "codemirror_mode": {
    "name": "ipython",
    "version": 3
   },
   "file_extension": ".py",
   "mimetype": "text/x-python",
   "name": "python",
   "nbconvert_exporter": "python",
   "pygments_lexer": "ipython3",
   "version": "3.9.6"
  }
 },
 "nbformat": 4,
 "nbformat_minor": 5
}
