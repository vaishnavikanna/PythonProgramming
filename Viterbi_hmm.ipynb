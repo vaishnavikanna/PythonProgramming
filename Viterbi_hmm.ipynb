{
 "cells": [
  {
   "cell_type": "code",
   "execution_count": 16,
   "id": "52d40e3e-87e7-4cd6-8f0e-7d919d07c0c0",
   "metadata": {},
   "outputs": [
    {
     "name": "stdout",
     "output_type": "stream",
     "text": [
      "The hidden states of the observed sequence are Sad Sad\n"
     ]
    }
   ],
   "source": [
    "obs = (\"sunny\", \"rainy\")\n",
    "states = (\"Happy\", \"Sad\")\n",
    "start_probs = {\"Happy\":0.1, \"Sad\":0.9}\n",
    "trans = {\"Happy\":{\"Happy\":0.7, \"Sad\":0.3}, \"Sad\":{\"Happy\":0.4, \"Sad\":0.6}}\n",
    "emit = {\"Happy\":{\"sunny\":0.8, \"rainy\":0.2}, \"Sad\":{\"sunny\":0.4, \"rainy\":0.6}}\n",
    "\n",
    "def viterbi_hmm(observations, states, start, trans, emit):\n",
    "    Result = [{}]\n",
    "    for i in states:\n",
    "         Result[0][i] = {\"p\": start[i] * emit[i][observations[0]], \"prev\": None}\n",
    "   \n",
    "    for t in range(1, len(observations)):\n",
    "        Result.append({})\n",
    "        for st in states:\n",
    "            max_prob = Result[t - 1][states[0]][\"p\"] * trans[states[0]][st]\n",
    "            prev_st_selected = states[0]\n",
    "            for prev_st in states[1:]:\n",
    "                tr_prob = Result[t - 1][prev_st][\"p\"] * trans[prev_st][st]\n",
    "                if tr_prob > max_prob:\n",
    "                    max_prob = tr_prob\n",
    "                    prev_st_selected = prev_st\n",
    " \n",
    "            max_prob = max_prob * emit[st][observations[t]]\n",
    "            Result[t][st] = {\"p\": max_prob, \"prev\": prev_st_selected}\n",
    "   \n",
    " \n",
    "    opt = []\n",
    "    max_prob = 0.0\n",
    "    best_st = None\n",
    " \n",
    "    for j, data in Result[-1].items():\n",
    "        if data[\"p\"] > max_prob:\n",
    "            max_prob = data[\"p\"]\n",
    "            best_st = j\n",
    "    opt.append(best_st)\n",
    "    previous = best_st\n",
    " \n",
    " \n",
    "    for y in range(len(Result) - 2, -1, -1):\n",
    "        opt.insert(0, Result[y + 1][previous][\"prev\"])\n",
    "        previous = Result[y + 1][previous][\"prev\"]\n",
    " \n",
    "    print (\"The hidden states of the observed sequence are \" + \" \".join(opt))\n",
    "\n",
    "                \n",
    "viterbi_hmm(obs, states, start_probs, trans, emit)\n"
   ]
  },
  {
   "cell_type": "code",
   "execution_count": null,
   "id": "1419ec96-c298-4e08-8045-ea03bcadfc38",
   "metadata": {},
   "outputs": [],
   "source": []
  }
 ],
 "metadata": {
  "kernelspec": {
   "display_name": "Python 3 (ipykernel)",
   "language": "python",
   "name": "python3"
  },
  "language_info": {
   "codemirror_mode": {
    "name": "ipython",
    "version": 3
   },
   "file_extension": ".py",
   "mimetype": "text/x-python",
   "name": "python",
   "nbconvert_exporter": "python",
   "pygments_lexer": "ipython3",
   "version": "3.9.7"
  }
 },
 "nbformat": 4,
 "nbformat_minor": 5
}
