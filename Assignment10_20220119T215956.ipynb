{
 "cells": [
  {
   "cell_type": "markdown",
   "metadata": {},
   "source": [
    "# Assignment 10"
   ]
  },
  {
   "cell_type": "code",
   "execution_count": 1,
   "metadata": {},
   "outputs": [],
   "source": [
    "import numpy as np\n",
    "np.set_printoptions(threshold=10) # printing setup\n",
    "import matplotlib.pyplot as plt"
   ]
  },
  {
   "cell_type": "code",
   "execution_count": 2,
   "metadata": {},
   "outputs": [],
   "source": [
    "# This formula shall be imitated by the neural network\n",
    "def formula_1(x):\n",
    "    return x + 0.75\n",
    "\n",
    "# This formula shall be imitated by the neural network, too\n",
    "def formula_2(x):\n",
    "    return(np.sin(x) + 0.5)"
   ]
  },
  {
   "cell_type": "code",
   "execution_count": 3,
   "metadata": {},
   "outputs": [
    {
     "data": {
      "text/plain": [
       "array([[1.2822357 ],\n",
       "       [0.61593568],\n",
       "       [0.99596013],\n",
       "       ...,\n",
       "       [1.5370429 ],\n",
       "       [1.27354975],\n",
       "       [0.48213468]])"
      ]
     },
     "execution_count": 3,
     "metadata": {},
     "output_type": "execute_result"
    }
   ],
   "source": [
    "# Input data\n",
    "X = np.random.uniform(low=-0.5, high=1.55, size=100)# make 100 uniformly distributed samples\n",
    "X = X.reshape(-1, 1) # -1 indicates \"as many rows as required\"\n",
    "X # input data as column vector"
   ]
  },
  {
   "cell_type": "code",
   "execution_count": 4,
   "metadata": {},
   "outputs": [
    {
     "data": {
      "text/plain": [
       "array([[2.0322357 ],\n",
       "       [1.36593568],\n",
       "       [1.74596013],\n",
       "       ...,\n",
       "       [2.2870429 ],\n",
       "       [2.02354975],\n",
       "       [1.23213468]])"
      ]
     },
     "execution_count": 4,
     "metadata": {},
     "output_type": "execute_result"
    }
   ],
   "source": [
    "# Target values with formula_1\n",
    "y_1 = np.array([formula_1(x) for x in X.flatten()]) # one output per sample, |X|-many samples\n",
    "y_1 = y_1.reshape(-1, 1)\n",
    "y_1 # target data as column vector"
   ]
  },
  {
   "cell_type": "code",
   "execution_count": 5,
   "metadata": {},
   "outputs": [
    {
     "data": {
      "text/plain": [
       "array([[1.45865448],\n",
       "       [1.07772251],\n",
       "       [1.33928137],\n",
       "       ...,\n",
       "       [1.49943041],\n",
       "       [1.45614656],\n",
       "       [0.96367157]])"
      ]
     },
     "execution_count": 5,
     "metadata": {},
     "output_type": "execute_result"
    }
   ],
   "source": [
    "# Target values with formula_2\n",
    "y_2 = np.array([formula_2(x) for x in X.flatten()]) # one output per sample, |X|-many samples\n",
    "y_2 = y_2.reshape(-1, 1)\n",
    "y_2 # target data as column vector"
   ]
  },
  {
   "cell_type": "markdown",
   "metadata": {},
   "source": [
    "### Code below contains the parts to be edited"
   ]
  },
  {
   "cell_type": "code",
   "execution_count": 62,
   "metadata": {},
   "outputs": [
    {
     "name": "stdout",
     "output_type": "stream",
     "text": [
      "Imitation of formula 'x+0.75'\n",
      "Weight_1:1.0068740368359326\n",
      "Weight_2:1.0467507623257297\n",
      "Bias:1.0499010795315427\n"
     ]
    },
    {
     "data": {
      "image/png": "[encoded data removed]",
      "text/plain": [
       "<Figure size 432x288 with 1 Axes>"
      ]
     },
     "metadata": {
      "needs_background": "light"
     },
     "output_type": "display_data"
    },
    {
     "data": {
      "image/png": "[encoded data removed]",
      "text/plain": [
       "<Figure size 432x288 with 1 Axes>"
      ]
     },
     "metadata": {
      "needs_background": "light"
     },
     "output_type": "display_data"
    },
    {
     "name": "stdout",
     "output_type": "stream",
     "text": [
      "\n",
      "Imitation of formula 'sin(x)+0.5'\n",
      "Weight_1:1.0041570942736273\n",
      "Weight_2:1.0114323900757294\n",
      "Bias:1.0077964067109213\n"
     ]
    },
    {
     "data": {
      "image/png": "[encoded data removed]",
      "text/plain": [
       "<Figure size 432x288 with 1 Axes>"
      ]
     },
     "metadata": {
      "needs_background": "light"
     },
     "output_type": "display_data"
    },
    {
     "data": {
      "image/png": "[encoded data removed]",
      "text/plain": [
       "<Figure size 432x288 with 1 Axes>"
      ]
     },
     "metadata": {
      "needs_background": "light"
     },
     "output_type": "display_data"
    }
   ],
   "source": [
    "# Simple neural-network based regressor\n",
    "class NeuralNetwork:\n",
    "    \n",
    "    # Function called at object initialization\n",
    "    def __init__(self):\n",
    "        \n",
    "        # These are members of the class. You can access them in every method by \"self.var_name\" and from outside the class with \"instance_name.var_name\"\n",
    "        \n",
    "        # Sample to compute pass with\n",
    "        self.X          = 0.0 # set me!\n",
    "        self.y          = 0.0 # set me!\n",
    "        \n",
    "        # Parameters to be learned\n",
    "        self.weight_1   = 1.0 # teach me!\n",
    "        self.weight_2   = 1.0 # teach me!\n",
    "        self.bias       = 1.0 # teach me!\n",
    "        \n",
    "        # State information\n",
    "        self.hidden     = 0.0 # use me!\n",
    "        self.output     = 0.0 # use me!\n",
    "        self.error      = 0.0 # use me!\n",
    "        \n",
    "    # Set sample to be used in feed-forward and back-propagation pass\n",
    "    def set_sample(self, X, y):\n",
    "        self.X = float(X)\n",
    "        self.y = float(y)\n",
    "        \n",
    "    def sigmoid(x):\n",
    "        return 1 / (1 + np.exp(-x))\n",
    "\n",
    "    \n",
    "    \n",
    "    # (a) Feed-forward pass\n",
    "    def feed_forward(self):\n",
    "        weights_hidden = np.array([self.weight_1, self.bias])\n",
    "        weights_output = np.array([self.weight_2, self.bias])\n",
    "        self.X = np.array([self.X, 1])\n",
    "        hidden_transformation = np.dot(weights_hidden.T, self.X)\n",
    "        self.hidden = 1 / (1 + np.exp(-hidden_transformation))\n",
    "        self.hidden = np.array([self.hidden, 1])\n",
    "        output_transformation = np.dot(weights_output.T, self.hidden)\n",
    "        self.output = 1 / (1 + np.exp(-output_transformation))\n",
    "        \n",
    "        #print(self.output)\n",
    "        \n",
    "        # TODO: Feed-forward pass and error estimation, store results in state information members\n",
    "        # Consider the loss function: 0.5 ∗ (𝑡𝑎𝑟𝑔𝑒𝑡 − 𝑜𝑢𝑡𝑝𝑢𝑡)2\n",
    "\n",
    "         # remove this line, just here to produce no compile error in initial setup\n",
    "      \n",
    "    # (b) Back-propagation pass\n",
    "    def back_prop(self):\n",
    "        weights_hidden = np.array([self.weight_1, self.bias])\n",
    "        weights_output = np.array([self.weight_2, self.bias])\n",
    "        self.error = np.square(self.y - self.output) / 2\n",
    "        error_output = -(self.y - self.output)  #derivative of error with respect to output\n",
    "        output_outputLayer = np.multiply(self.output, (1-self.output)) #derivative of output with respect to output layer linear transformation\n",
    "        outputLayer_hiddenWeight = self.hidden  #derivative of output layer linear transformation w.r.t to weight between hidden and output layer\n",
    "        error_hiddenWeight = np.dot(outputLayer_hiddenWeight, (error_output * output_outputLayer).T)\n",
    "        outputLayer_hiddenLayerActivation = weights_output\n",
    "        hiddenLayerActive_hiddenLayerLinear = np.multiply(self.hidden, (1 - self.hidden))\n",
    "        hiddenLayer_inputWeight = self.X\n",
    "        error_inputWeight = np.dot(hiddenLayer_inputWeight, (hiddenLayerActive_hiddenLayerLinear * np.dot(outputLayer_hiddenLayerActivation,(output_outputLayer * error_output))).T)\n",
    "        #print(error_inputWeight)\n",
    "        learningRate = 0.01\n",
    "        weights_output = weights_output - learningRate * error_hiddenWeight\n",
    "        weights_hidden = weights_hidden - learningRate * error_inputWeight\n",
    "        self.weight_1 = weights_hidden[0]\n",
    "        self.weight_2 = weights_output[0]\n",
    "        self.bias = weights_output[1]\n",
    "        # TODO: Derivations of parameters\n",
    "        # TODO: Update the parameters with learning rate of 0.01\n",
    "        \n",
    "def execute_nn(X, y):\n",
    "    \n",
    "    # Instantiate neural network\n",
    "    nn = NeuralNetwork()\n",
    "    \n",
    "    # Collect mean error of each epoch to plot it later\n",
    "    epoch_error = []\n",
    "\n",
    "    # Perform multiple epochs, aka inputting the dataset multiple times\n",
    "    for epoch in range(0,100):\n",
    "        nn = NeuralNetwork() # instantiates neural network\n",
    "        for i in range(0, X.shape[0]):\n",
    "            nn.set_sample(X[i], y[i]) # sets sample with 2 as input and 5 as target\n",
    "            nn.feed_forward() # perform feed-forward to calculate output\n",
    "            nn.back_prop() # use difference between target and actual output to update parameters\n",
    "        #Remember final error of each epoch in \"epoch_error\"\n",
    "        epoch = np.average(nn.error)\n",
    "        epoch_error.append(epoch)\n",
    "        \n",
    "        \n",
    "    # Print final parameters of trained neural network\n",
    "    print(\"Weight_1:\"+ str(nn.weight_1))\n",
    "    print(\"Weight_2:\" + str(nn.weight_2))\n",
    "    print(\"Bias:\" + str(nn.bias))\n",
    "    \n",
    "    # Plot epoch errors with logarithmic transformation\n",
    "    plt.plot(list(range(len(epoch_error))), np.log(epoch_error))\n",
    "    ax = plt.gca()\n",
    "    ax.set_xlabel('# Epoch')\n",
    "    ax.set_ylabel('Error')\n",
    "    plt.show()\n",
    "    \n",
    "    # Plot datapoints as originally transformed and as transformed by neural network\n",
    "    computed = []\n",
    "    for i in range(0, X.shape[0]):\n",
    "        nn.set_sample(X[i], y[i])\n",
    "        nn.feed_forward()\n",
    "        computed.append(nn.output)\n",
    "    plt.scatter(X.transpose().flatten(), y.transpose().flatten(), c='blue', s=16)\n",
    "    plt.scatter(X.transpose().flatten(), computed, c='red', s=16)\n",
    "    plt.show()\n",
    "\n",
    "print(\"Imitation of formula 'x+0.75'\")\n",
    "execute_nn(X,y_1)\n",
    "print()\n",
    "print(\"Imitation of formula 'sin(x)+0.5'\")\n",
    "execute_nn(X,y_2)\n"
   ]
  },
  {
   "cell_type": "code",
   "execution_count": null,
   "metadata": {},
   "outputs": [],
   "source": []
  }
 ],
 "metadata": {
  "kernelspec": {
   "display_name": "Python 3 (ipykernel)",
   "language": "python",
   "name": "python3"
  },
  "language_info": {
   "codemirror_mode": {
    "name": "ipython",
    "version": 3
   },
   "file_extension": ".py",
   "mimetype": "text/x-python",
   "name": "python",
   "nbconvert_exporter": "python",
   "pygments_lexer": "ipython3",
   "version": "3.9.7"
  }
 },
 "nbformat": 4,
 "nbformat_minor": 4
}
